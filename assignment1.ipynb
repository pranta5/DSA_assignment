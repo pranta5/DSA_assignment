{
 "cells": [
  {
   "cell_type": "markdown",
   "id": "9fa81c66-db92-47c2-897e-b1373c16e393",
   "metadata": {},
   "source": [
    "💡 **Q1.** Given an array of integers nums and an integer target, return indices of the two numbers such that they add up to target.\n",
    "\n",
    "You may assume that each input would have exactly one solution, and you may not use the same element twice.\n",
    "\n",
    "You can return the answer in any order.\n",
    "\n",
    "**Example:**\n",
    "Input: nums = [2,7,11,15], target = 9\n",
    "Output0 [0,1]\n",
    "\n",
    "**Explanation:** Because nums[0] + nums[1] == 9, we return [0, 1]\n"
   ]
  },
  {
   "cell_type": "code",
   "execution_count": 11,
   "id": "c45f1bf7-7374-4c4f-bec4-c14582bcece4",
   "metadata": {},
   "outputs": [
    {
     "data": {
      "text/plain": [
       "[0, 1]"
      ]
     },
     "execution_count": 11,
     "metadata": {},
     "output_type": "execute_result"
    }
   ],
   "source": [
    "class Solution:\n",
    "    def twoSum(self, nums,target):\n",
    "        n=len(nums)\n",
    "        for i in range(n-1):\n",
    "            for j in range(i+1,n):\n",
    "                if nums[i]+nums[j]==target:\n",
    "                    return [i,j]\n",
    "        return []\n",
    "    \n",
    "nums=[2,7,11,15]\n",
    "target = 9\n",
    "result=Solution().twoSum(nums,target)\n",
    "result"
   ]
  },
  {
   "cell_type": "markdown",
   "id": "6c99121e-2f74-43a6-8ac6-d612b84aedba",
   "metadata": {},
   "source": [
    "<aside>\n",
    "💡 **Q2.** Given an integer array nums and an integer val, remove all occurrences of val in nums in-place. The order of the elements may be changed. Then return the number of elements in nums which are not equal to val.\n",
    "\n",
    "Consider the number of elements in nums which are not equal to val be k, to get accepted, you need to do the following things:\n",
    "\n",
    "- Change the array nums such that the first k elements of nums contain the elements which are not equal to val. The remaining elements of nums are not important as well as the size of nums.\n",
    "- Return k.\n",
    "\n",
    "**Example :**\n",
    "Input: nums = [3,2,2,3], val = 3\n",
    "Output: 2, nums = [2,2,_*,_*]\n",
    "\n",
    "**Explanation:** Your function should return k = 2, with the first two elements of nums being 2. It does not matter what you leave beyond the returned k (hence they are underscores)\n",
    "\n",
    "</aside>"
   ]
  },
  {
   "cell_type": "code",
   "execution_count": 14,
   "id": "0b8177a0-3aad-449a-8480-38831dcec240",
   "metadata": {},
   "outputs": [
    {
     "data": {
      "text/plain": [
       "4"
      ]
     },
     "execution_count": 14,
     "metadata": {},
     "output_type": "execute_result"
    }
   ],
   "source": [
    "class Solution:\n",
    "    def removeElement(self, nums,val):\n",
    "        i=0\n",
    "        for x in nums:\n",
    "            if x!=val:\n",
    "                nums[i]=x\n",
    "                i=i+1\n",
    "        return i\n",
    "nums = [3,2,2,3,5,1,3]\n",
    "val = 3\n",
    "res=Solution().removeElement(nums,val)\n",
    "res"
   ]
  },
  {
   "cell_type": "markdown",
   "id": "311cd26f-4004-42f3-9798-e440b9f6c4bb",
   "metadata": {},
   "source": [
    "<aside>\n",
    "💡 **Q3.** Given a sorted array of distinct integers and a target value, return the index if the target is found. If not, return the index where it would be if it were inserted in order.\n",
    "\n",
    "You must write an algorithm with O(log n) runtime complexity.\n",
    "\n",
    "**Example 1:**\n",
    "Input: nums = [1,3,5,6], target = 5\n",
    "\n",
    "Output: 2\n",
    "\n",
    "</aside>"
   ]
  },
  {
   "cell_type": "code",
   "execution_count": 19,
   "id": "6290f7e3-0e2b-4a65-bf5b-874e123df2aa",
   "metadata": {},
   "outputs": [
    {
     "data": {
      "text/plain": [
       "2"
      ]
     },
     "execution_count": 19,
     "metadata": {},
     "output_type": "execute_result"
    }
   ],
   "source": [
    "class Solution:\n",
    "    def searchInsert(self, nums,target):\n",
    "        left,right=0,len(nums)-1\n",
    "        while left<=right:\n",
    "            mid=(left+right)//2\n",
    "            if nums[mid]==target:\n",
    "                return mid\n",
    "            elif nums[mid]<target:\n",
    "                left=mid+1\n",
    "            else:\n",
    "                right=mid-1\n",
    "        return left\n",
    "nums = [1,3,5,6]\n",
    "target = 5\n",
    "res=Solution().searchInsert(nums,target)\n",
    "res"
   ]
  },
  {
   "cell_type": "markdown",
   "id": "0bf1dd10-3859-4872-a0d2-bca4f25a92c7",
   "metadata": {},
   "source": [
    "<aside>\n",
    "💡 **Q4.** You are given a large integer represented as an integer array digits, where each digits[i] is the ith digit of the integer. The digits are ordered from most significant to least significant in left-to-right order. The large integer does not contain any leading 0's.\n",
    "\n",
    "Increment the large integer by one and return the resulting array of digits.\n",
    "\n",
    "**Example 1:**\n",
    "Input: digits = [1,2,3]\n",
    "Output: [1,2,4]\n",
    "\n",
    "**Explanation:** The array represents the integer 123.\n",
    "\n",
    "Incrementing by one gives 123 + 1 = 124.\n",
    "Thus, the result should be [1,2,4].\n",
    "\n",
    "</aside>"
   ]
  },
  {
   "cell_type": "code",
   "execution_count": null,
   "id": "9dbe495f-e00f-4e21-8f9a-996048a4b813",
   "metadata": {},
   "outputs": [
    {
     "data": {
      "text/plain": [
       "[1, 2, 4]"
      ]
     },
     "execution_count": 3,
     "metadata": {},
     "output_type": "execute_result"
    }
   ],
   "source": [
    "class Solution:\n",
    "    def plusOne(self, digits):\n",
    "        carry = 0\n",
    "        n = len(digits)\n",
    "        for i in reversed(range(n)):\n",
    "            val = digits[i] + carry + 1 if i == n-1 else digits[i] + carry\n",
    "            if val <= 9:\n",
    "                digits[i] = val\n",
    "                carry = 0\n",
    "            else:\n",
    "                carry = val // 10\n",
    "                val -= 10\n",
    "                digits[i] = val\n",
    "        if carry:\n",
    "            digits.insert(0, carry)\n",
    "        return digits\n",
    "digits = [1,2,3]\n",
    "res=Solution().plusOne(digits)\n",
    "res\n",
    "    "
   ]
  },
  {
   "cell_type": "markdown",
   "id": "11b7ecae-a616-47a7-8a6e-eefb76fa0ff1",
   "metadata": {},
   "source": [
    "<aside>\n",
    "💡 **Q5.** You are given two integer arrays nums1 and nums2, sorted in non-decreasing order, and two integers m and n, representing the number of elements in nums1 and nums2 respectively.\n",
    "\n",
    "Merge nums1 and nums2 into a single array sorted in non-decreasing order.\n",
    "\n",
    "The final sorted array should not be returned by the function, but instead be stored inside the array nums1. To accommodate this, nums1 has a length of m + n, where the first m elements denote the elements that should be merged, and the last n elements are set to 0 and should be ignored. nums2 has a length of n.\n",
    "\n",
    "**Example 1:**\n",
    "Input: nums1 = [1,2,3,0,0,0], m = 3, nums2 = [2,5,6], n = 3\n",
    "Output: [1,2,2,3,5,6]\n",
    "\n",
    "**Explanation:** The arrays we are merging are [1,2,3] and [2,5,6].\n",
    "The result of the merge is [1,2,2,3,5,6] with the underlined elements coming from nums1.\n",
    "\n",
    "</aside>"
   ]
  },
  {
   "cell_type": "code",
   "execution_count": 10,
   "id": "80995987-2843-4d2a-8f6b-6f7d3e0fe0b9",
   "metadata": {},
   "outputs": [],
   "source": [
    "class Solution:\n",
    "    def merge(self, nums1,m,nums2,n):\n",
    "        for i in range(m,m+n):\n",
    "            nums1[i]=nums2[i-m]\n",
    "        nums1.sort()"
   ]
  },
  {
   "cell_type": "markdown",
   "id": "25f73921-2c28-4c42-9208-3f1deab856f3",
   "metadata": {},
   "source": [
    "<aside>\n",
    "💡 **Q6.** Given an integer array nums, return true if any value appears at least twice in the array, and return false if every element is distinct.\n",
    "\n",
    "**Example 1:**\n",
    "Input: nums = [1,2,3,1]\n",
    "\n",
    "Output: true\n",
    "\n",
    "</aside>"
   ]
  },
  {
   "cell_type": "code",
   "execution_count": 24,
   "id": "c4c7691a-3dfb-43a8-afe9-91e17620c7d0",
   "metadata": {},
   "outputs": [
    {
     "data": {
      "text/plain": [
       "True"
      ]
     },
     "execution_count": 24,
     "metadata": {},
     "output_type": "execute_result"
    }
   ],
   "source": [
    "class Solution:\n",
    "    def contain_dupli(self,nums):\n",
    "        x=set()\n",
    "        for i in nums:\n",
    "            if i in x:\n",
    "                return True\n",
    "            else:\n",
    "                x.add(i)\n",
    "        return False\n",
    "nums=[1,2,3,3]\n",
    "res=Solution().contain_dupli(nums)\n",
    "res"
   ]
  },
  {
   "cell_type": "markdown",
   "id": "a96ff9e5-9a3c-4203-b850-909a2da7a717",
   "metadata": {},
   "source": [
    "<aside>\n",
    "💡 **Q7.** Given an integer array nums, move all 0's to the end of it while maintaining the relative order of the nonzero elements.\n",
    "\n",
    "Note that you must do this in-place without making a copy of the array.\n",
    "\n",
    "**Example 1:**\n",
    "Input: nums = [0,1,0,3,12]\n",
    "Output: [1,3,12,0,0]\n",
    "\n",
    "</aside>"
   ]
  },
  {
   "cell_type": "code",
   "execution_count": 32,
   "id": "de7e9ce6-1442-4e42-91da-023276ca89de",
   "metadata": {},
   "outputs": [
    {
     "data": {
      "text/plain": [
       "[1, 3, 12, 0, 0]"
      ]
     },
     "execution_count": 32,
     "metadata": {},
     "output_type": "execute_result"
    }
   ],
   "source": [
    "class Solution:\n",
    "    def moveZero(self,nums):\n",
    "        i=0\n",
    "        for x in range(len(nums)):\n",
    "            if nums[x]!=0:\n",
    "                nums[i],nums[x]=nums[x],nums[i]\n",
    "                i=i+1\n",
    "        return nums\n",
    "nums =[0,1,0,3,12]\n",
    "res=Solution().moveZero(nums)\n",
    "res"
   ]
  },
  {
   "cell_type": "markdown",
   "id": "ddf0b141-f507-4bdf-8e15-f6786fb55794",
   "metadata": {},
   "source": [
    "<aside>\n",
    "💡 **Q8.** You have a set of integers s, which originally contains all the numbers from 1 to n. Unfortunately, due to some error, one of the numbers in s got duplicated to another number in the set, which results in repetition of one number and loss of another number.\n",
    "\n",
    "You are given an integer array nums representing the data status of this set after the error.\n",
    "\n",
    "Find the number that occurs twice and the number that is missing and return them in the form of an array.\n",
    "\n",
    "**Example 1:**\n",
    "Input: nums = [1,2,2,4]\n",
    "Output: [2,3]\n",
    "\n",
    "</aside>"
   ]
  },
  {
   "cell_type": "code",
   "execution_count": 41,
   "id": "04fa94e5-0cfb-4431-a869-db2ff7ebac56",
   "metadata": {},
   "outputs": [
    {
     "data": {
      "text/plain": [
       "[2, 3]"
      ]
     },
     "execution_count": 41,
     "metadata": {},
     "output_type": "execute_result"
    }
   ],
   "source": [
    "from collections import Counter\n",
    "class Solution:\n",
    "    def find_error_num(self,nums):\n",
    "        c=Counter(nums)\n",
    "        l=[0,0]\n",
    "        for i in range(1,len(nums)+1):\n",
    "            if c[i]==2:\n",
    "                l[0]=i\n",
    "            if c[i]==0:\n",
    "                l[1]=i\n",
    "        return l\n",
    "nums = [1,2,2,4]\n",
    "res=Solution().find_error_num(nums)\n",
    "res"
   ]
  },
  {
   "cell_type": "code",
   "execution_count": null,
   "id": "c0aef4de-6501-4d7e-af72-78468da50424",
   "metadata": {},
   "outputs": [],
   "source": []
  }
 ],
 "metadata": {
  "kernelspec": {
   "display_name": "Python 3 (ipykernel)",
   "language": "python",
   "name": "python3"
  },
  "language_info": {
   "codemirror_mode": {
    "name": "ipython",
    "version": 3
   },
   "file_extension": ".py",
   "mimetype": "text/x-python",
   "name": "python",
   "nbconvert_exporter": "python",
   "pygments_lexer": "ipython3",
   "version": "3.10.8"
  }
 },
 "nbformat": 4,
 "nbformat_minor": 5
}
