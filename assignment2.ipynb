{
 "cells": [
  {
   "cell_type": "markdown",
   "id": "01113dbd-0f3a-4cba-a7ca-a5d0c7345e73",
   "metadata": {},
   "source": [
    "Question 1\n",
    "Given an integer array nums of 2n integers, group these integers into n pairs (a1, b1), (a2, b2),..., (an, bn) such that the sum of min(ai, bi) for all i is maximized. Return the maximized sum.\n"
   ]
  },
  {
   "cell_type": "code",
   "execution_count": null,
   "id": "cd307177-b34c-4023-8694-d97986da7521",
   "metadata": {},
   "outputs": [],
   "source": [
    "class Solution:\n",
    "    def arrayPairSum(self, nums: List[int]) -> int:\n",
    "        nums.sort() \n",
    "        return sum(nums[::2])"
   ]
  },
  {
   "cell_type": "markdown",
   "id": "d634d0ec-02ed-4556-85b5-f947584d7630",
   "metadata": {},
   "source": [
    "Question 2\n",
    "Alice has n candies, where the ith candy is of type candyType[i]. Alice noticed that she started to gain weight, so she visited a doctor. \n",
    "\n",
    "The doctor advised Alice to only eat n / 2 of the candies she has (n is always even). Alice likes her candies very much, and she wants to eat the maximum number of different types of candies while still following the doctor's advice. \n",
    "\n",
    "Given the integer array candyType of length n, return the maximum number of different types of candies she can eat if she only eats n / 2 of them."
   ]
  },
  {
   "cell_type": "code",
   "execution_count": null,
   "id": "01c44389-6d1f-46c8-b140-9ad9c2135ad6",
   "metadata": {},
   "outputs": [],
   "source": [
    "class Solution:\n",
    "    def distributeCandies(self, candyType: List[int]) -> int:\n",
    "        seen = {}\n",
    "        i = 0\n",
    "        amount_allowed = 0\n",
    "        while(i<len(candyType) and amount_allowed<len(candyType)//2):\n",
    "            if seen.get(candyType[i],0)==0:\n",
    "                amount_allowed+=1\n",
    "                seen[candyType[i]] = 1\n",
    "            i+=1\n",
    "        return amount_allowed\n",
    "\n"
   ]
  },
  {
   "cell_type": "markdown",
   "id": "97991238-d985-40f2-a45f-8f8f9c6e8c56",
   "metadata": {},
   "source": [
    "Question 3\n",
    "We define a harmonious array as an array where the difference between its maximum value\n",
    "and its minimum value is exactly 1.\n",
    "\n",
    "Given an integer array nums, return the length of its longest harmonious subsequence\n",
    "among all its possible subsequences.\n",
    "\n",
    "A subsequence of an array is a sequence that can be derived from the array by deleting some or no elements without changing the order of the remaining elements."
   ]
  },
  {
   "cell_type": "code",
   "execution_count": null,
   "id": "3cd31e88-c490-4c8b-94ae-52d375ec1ff8",
   "metadata": {},
   "outputs": [],
   "source": [
    "class Solution:\n",
    "    def findLHS(self, nums: List[int]) -> int:\n",
    "        freq = Counter(nums)\n",
    "        max_length = 0\n",
    "        \n",
    "        for key in freq:\n",
    "            if key + 1 in freq:\n",
    "                max_length = max(max_length, freq[key] + freq[key+1])\n",
    "                \n",
    "        return max_length"
   ]
  },
  {
   "cell_type": "markdown",
   "id": "29cdd96d-7bd4-41a5-85ff-0440502fd5d3",
   "metadata": {},
   "source": [
    "Question 4\n",
    "You have a long flowerbed in which some of the plots are planted, and some are not.\n",
    "However, flowers cannot be planted in adjacent plots.\n",
    "Given an integer array flowerbed containing 0's and 1's, where 0 means empty and 1 means not empty, and an integer n, return true if n new flowers can be planted in the flowerbed without violating the no-adjacent-flowers rule and false otherwise."
   ]
  },
  {
   "cell_type": "code",
   "execution_count": null,
   "id": "eb1970a0-ad1c-4ac7-b72a-d80f20a949ff",
   "metadata": {},
   "outputs": [],
   "source": [
    "class Solution:\n",
    "    def canPlaceFlowers(self, flowerbed: List[int], n: int) -> bool:\n",
    "        if n == 0:\n",
    "            return True\n",
    "        for i in range(len(flowerbed)):\n",
    "            if flowerbed[i] == 0 and (i == 0 or flowerbed[i-1] == 0) and (i == len(flowerbed)-1 or flowerbed[i+1] == 0):\n",
    "                flowerbed[i] = 1\n",
    "                n -= 1\n",
    "                if n == 0:\n",
    "                    return True\n",
    "        return False"
   ]
  },
  {
   "cell_type": "markdown",
   "id": "9d919065-bb3e-4117-8e0b-76b5d9c8b8f9",
   "metadata": {},
   "source": [
    "Question 5\n",
    "Given an integer array nums, find three numbers whose product is maximum and return the maximum product."
   ]
  },
  {
   "cell_type": "code",
   "execution_count": null,
   "id": "6e8f5784-bc97-4a9a-859e-67a9d8b1bb86",
   "metadata": {},
   "outputs": [],
   "source": [
    "class Solution:\n",
    "     def maximumProduct(self, nums):\n",
    "            a, b = heapq.nlargest(3, nums), heapq.nsmallest(2, nums)\n",
    "            return max(a[0] * a[1] * a[2], b[0] * b[1] * a[0])"
   ]
  },
  {
   "cell_type": "markdown",
   "id": "b96b4088-c4ad-44e0-a78f-c83cfede3983",
   "metadata": {},
   "source": [
    "Question 6\n",
    "Given an array of integers nums which is sorted in ascending order, and an integer target,\n",
    "write a function to search target in nums. If target exists, then return its index. Otherwise,\n",
    "return -1."
   ]
  },
  {
   "cell_type": "code",
   "execution_count": null,
   "id": "d76e7892-a944-48cd-b3cd-e268c13ee51d",
   "metadata": {},
   "outputs": [],
   "source": [
    "class Solution:\n",
    "    def search(self, nums: List[int], target: int) -> int:\n",
    "        leng = len(nums)\n",
    "        hi = leng\n",
    "        lo = 0\n",
    "        mid = (lo+hi)//2\n",
    "        while lo < hi:\n",
    "            curr = nums[mid]\n",
    "            if curr == target:\n",
    "                return mid\n",
    "            elif curr < target:\n",
    "                lo = mid\n",
    "                mid = (lo+hi)//2\n",
    "                if lo == mid:\n",
    "                    lo+=1\n",
    "            else:\n",
    "                hi = mid\n",
    "                mid = (lo+hi)//2\n",
    "                if hi == mid:\n",
    "                    hi-=1\n",
    "        return -1"
   ]
  },
  {
   "cell_type": "markdown",
   "id": "49e4a5cc-63f7-4242-95b7-dec4e8074c0f",
   "metadata": {},
   "source": [
    "Question 7\n",
    "An array is monotonic if it is either monotone increasing or monotone decreasing.\n",
    "\n",
    "An array nums is monotone increasing if for all i <= j, nums[i] <= nums[j]. An array nums is\n",
    "monotone decreasing if for all i <= j, nums[i] >= nums[j].\n",
    "\n",
    "Given an integer array nums, return true if the given array is monotonic, or false otherwise.\n"
   ]
  },
  {
   "cell_type": "code",
   "execution_count": null,
   "id": "8ddec809-1e21-4c8b-b4c8-af77807e93dc",
   "metadata": {},
   "outputs": [],
   "source": [
    "class Solution:\n",
    "    def isMonotonic(self, A: List[int]) -> bool:\n",
    "        if A[-1] < A[0]: \n",
    "            A = A[::-1]\n",
    "        \n",
    "        for i in range(1, len(A)):\n",
    "            if A[i] < A[i-1]:\n",
    "                return False\n",
    "        return True"
   ]
  },
  {
   "cell_type": "markdown",
   "id": "71738661-9898-4473-9cdb-3ba209df492e",
   "metadata": {},
   "source": [
    "Question 8\n",
    "You are given an integer array nums and an integer k.\n",
    "\n",
    "In one operation, you can choose any index i where 0 <= i < nums.length and change nums[i] to nums[i] + x where x is an integer from the range [-k, k]. You can apply this operation at most once for each index i.\n",
    "\n",
    "The score of nums is the difference between the maximum and minimum elements in nums.\n",
    "\n",
    "Return the minimum score of nums after applying the mentioned operation at most once for each index in it."
   ]
  },
  {
   "cell_type": "code",
   "execution_count": null,
   "id": "03275456-9b57-46ed-848c-ab9c266890bf",
   "metadata": {},
   "outputs": [],
   "source": [
    "class Solution:\n",
    "    def smallestRangeI(self, A: List[int], K: int) -> int:\n",
    "\n",
    "        M, m = max(A), min(A)\n",
    "        diff, extension = M - m, 2*K\n",
    "        \n",
    "        if diff <= extension:\n",
    "            return 0\n",
    "        \n",
    "        else:\n",
    "            return diff - extension"
   ]
  }
 ],
 "metadata": {
  "kernelspec": {
   "display_name": "Python 3 (ipykernel)",
   "language": "python",
   "name": "python3"
  },
  "language_info": {
   "codemirror_mode": {
    "name": "ipython",
    "version": 3
   },
   "file_extension": ".py",
   "mimetype": "text/x-python",
   "name": "python",
   "nbconvert_exporter": "python",
   "pygments_lexer": "ipython3",
   "version": "3.10.8"
  }
 },
 "nbformat": 4,
 "nbformat_minor": 5
}
